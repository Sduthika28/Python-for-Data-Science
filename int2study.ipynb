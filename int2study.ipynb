{
 "cells": [
  {
   "cell_type": "code",
   "execution_count": 2,
   "id": "57a7192f-0de8-415f-b721-f144539bb1b7",
   "metadata": {},
   "outputs": [
    {
     "name": "stdout",
     "output_type": "stream",
     "text": [
      "<class 'list'>\n"
     ]
    }
   ],
   "source": [
    "tup=1,2,3,4,4\n",
    "lis=[1,2,3,4,4]\n",
    "sets={1,2,3,4,4}\n",
    "print(type(lis))"
   ]
  },
  {
   "cell_type": "code",
   "execution_count": 11,
   "id": "a5c3d2a8-0245-41b9-84b0-2e1031640d8c",
   "metadata": {},
   "outputs": [
    {
     "ename": "TypeError",
     "evalue": "'tuple' object does not support item assignment",
     "output_type": "error",
     "traceback": [
      "\u001b[1;31m---------------------------------------------------------------------------\u001b[0m",
      "\u001b[1;31mTypeError\u001b[0m                                 Traceback (most recent call last)",
      "Cell \u001b[1;32mIn[11], line 1\u001b[0m\n\u001b[1;32m----> 1\u001b[0m \u001b[43mtup\u001b[49m\u001b[43m[\u001b[49m\u001b[38;5;241;43m0\u001b[39;49m\u001b[43m]\u001b[49m\u001b[38;5;241m=\u001b[39m\u001b[38;5;241m2\u001b[39m\n",
      "\u001b[1;31mTypeError\u001b[0m: 'tuple' object does not support item assignment"
     ]
    }
   ],
   "source": [
    "tup[0]=2"
   ]
  },
  {
   "cell_type": "code",
   "execution_count": 12,
   "id": "9f9ee64c-0f56-46f4-b167-dad63b230ce4",
   "metadata": {},
   "outputs": [
    {
     "name": "stdout",
     "output_type": "stream",
     "text": [
      "[2, 2, 3, 4, 4]\n"
     ]
    }
   ],
   "source": [
    "lis[0]=2\n",
    "print(lis)"
   ]
  },
  {
   "cell_type": "code",
   "execution_count": 14,
   "id": "52b26ac0-8eb5-4774-bf3c-6a73a46470a1",
   "metadata": {},
   "outputs": [
    {
     "ename": "TypeError",
     "evalue": "'set' object does not support item assignment",
     "output_type": "error",
     "traceback": [
      "\u001b[1;31m---------------------------------------------------------------------------\u001b[0m",
      "\u001b[1;31mTypeError\u001b[0m                                 Traceback (most recent call last)",
      "Cell \u001b[1;32mIn[14], line 1\u001b[0m\n\u001b[1;32m----> 1\u001b[0m \u001b[43msets\u001b[49m\u001b[43m[\u001b[49m\u001b[38;5;241;43m0\u001b[39;49m\u001b[43m]\u001b[49m\u001b[38;5;241m=\u001b[39m\u001b[38;5;241m0\u001b[39m\n",
      "\u001b[1;31mTypeError\u001b[0m: 'set' object does not support item assignment"
     ]
    }
   ],
   "source": [
    "sets[0]=0"
   ]
  },
  {
   "cell_type": "code",
   "execution_count": 15,
   "id": "64b9676d-224d-42d9-94d3-b922026329bf",
   "metadata": {},
   "outputs": [
    {
     "data": {
      "text/plain": [
       "(1, 2, 3, 4, 4)"
      ]
     },
     "execution_count": 15,
     "metadata": {},
     "output_type": "execute_result"
    }
   ],
   "source": [
    "tup"
   ]
  },
  {
   "cell_type": "code",
   "execution_count": 16,
   "id": "8c796c9d-726f-4297-aa1d-78bd01b81335",
   "metadata": {},
   "outputs": [
    {
     "data": {
      "text/plain": [
       "{1, 2, 3, 4}"
      ]
     },
     "execution_count": 16,
     "metadata": {},
     "output_type": "execute_result"
    }
   ],
   "source": [
    "sets"
   ]
  },
  {
   "cell_type": "code",
   "execution_count": 22,
   "id": "f6ca1bc2-23e0-487e-9ee3-96ef6c7d71ed",
   "metadata": {},
   "outputs": [
    {
     "name": "stdout",
     "output_type": "stream",
     "text": [
      "<class 'tuple'>\n",
      "<class 'tuple'>\n"
     ]
    }
   ],
   "source": [
    "t1=()\n",
    "t2=tuple()\n",
    "print(type(t1))\n",
    "print(type(t2))"
   ]
  },
  {
   "cell_type": "code",
   "execution_count": 19,
   "id": "8d30d84b-b85a-4805-b4d6-64a2f7e0d885",
   "metadata": {},
   "outputs": [
    {
     "data": {
      "text/plain": [
       "list"
      ]
     },
     "execution_count": 19,
     "metadata": {},
     "output_type": "execute_result"
    }
   ],
   "source": [
    "l1=[]\n",
    "type(l1)"
   ]
  },
  {
   "cell_type": "code",
   "execution_count": 24,
   "id": "584c39b5-99af-49a9-80b5-4b54e84d06c3",
   "metadata": {},
   "outputs": [
    {
     "name": "stdout",
     "output_type": "stream",
     "text": [
      "(1, 3, 5, 7, 9, 11)\n"
     ]
    }
   ],
   "source": [
    "oddlist=[1,3,5,7,9,11]\n",
    "oddtuple=tuple(oddlist)\n",
    "print(oddtuple)"
   ]
  },
  {
   "cell_type": "code",
   "execution_count": 33,
   "id": "7ef814bb-dcec-4d33-934f-5e9f4a707f09",
   "metadata": {},
   "outputs": [
    {
     "name": "stdout",
     "output_type": "stream",
     "text": [
      "('s', 'd', 'u', 't', 'h', 'i', 'k', 'a')\n"
     ]
    }
   ],
   "source": [
    "t3=tuple(\"sduthika\")\n",
    "print(t3)"
   ]
  },
  {
   "cell_type": "code",
   "execution_count": 34,
   "id": "05f6ec8c-b8ae-423e-a814-42efc614a3f7",
   "metadata": {},
   "outputs": [
    {
     "name": "stdout",
     "output_type": "stream",
     "text": [
      "('1', '2', '3', '4', '5', '6')\n"
     ]
    }
   ],
   "source": [
    "t9=tuple(\"123456\")\n",
    "print(t9)"
   ]
  },
  {
   "cell_type": "code",
   "execution_count": 45,
   "id": "3d7c0aed-309d-4dc3-9bcb-f6b7ae2bd6bf",
   "metadata": {},
   "outputs": [
    {
     "data": {
      "text/plain": [
       "(2, 3, 4)"
      ]
     },
     "execution_count": 45,
     "metadata": {},
     "output_type": "execute_result"
    }
   ],
   "source": [
    "(2,2,3,4,4)[-4:-1]"
   ]
  },
  {
   "cell_type": "code",
   "execution_count": 36,
   "id": "88b2decc-3bbe-4f2b-98a9-b434e494f319",
   "metadata": {},
   "outputs": [
    {
     "data": {
      "text/plain": [
       "2"
      ]
     },
     "execution_count": 36,
     "metadata": {},
     "output_type": "execute_result"
    }
   ],
   "source": [
    "(1,2,4)[1]"
   ]
  },
  {
   "cell_type": "code",
   "execution_count": 49,
   "id": "00a12b2c-4975-4049-8c55-616724c493dc",
   "metadata": {},
   "outputs": [
    {
     "data": {
      "text/plain": [
       "(0, 2, 4, 6, 8, 10)"
      ]
     },
     "execution_count": 49,
     "metadata": {},
     "output_type": "execute_result"
    }
   ],
   "source": [
    "t10=(0,1,2,3,4,5,6,7,8,9,10)\n",
    "t10[::2]"
   ]
  },
  {
   "cell_type": "code",
   "execution_count": 59,
   "id": "c5b4c0cc-b5bf-4e07-964b-310b49285f5f",
   "metadata": {},
   "outputs": [
    {
     "name": "stdout",
     "output_type": "stream",
     "text": [
      "red ['blue', 'green', 'yellow', 'black']\n"
     ]
    }
   ],
   "source": [
    "color=(\"red\",\"blue\",\"green\",\"yellow\",\"black\")\n",
    "(id1,*id2)=color\n",
    "print(id1,id2)"
   ]
  },
  {
   "cell_type": "code",
   "execution_count": 63,
   "id": "b2d9ae21-323c-4f88-8e88-f4f90567dd81",
   "metadata": {},
   "outputs": [
    {
     "name": "stdout",
     "output_type": "stream",
     "text": [
      "1*2=2\n"
     ]
    }
   ],
   "source": [
    "print(\"1*2=\"+str(2))"
   ]
  },
  {
   "cell_type": "code",
   "execution_count": 70,
   "id": "d3fe703e-8909-42ab-93f4-e1f519eef12e",
   "metadata": {},
   "outputs": [
    {
     "name": "stdout",
     "output_type": "stream",
     "text": [
      "<class 'tuple'> ('ram',)\n",
      "<class 'list'> ['ram']\n"
     ]
    }
   ],
   "source": [
    "y=(\"ram\",)\n",
    "print(type(y),y)\n",
    "x=list(y)\n",
    "print(type(x),x)"
   ]
  },
  {
   "cell_type": "code",
   "execution_count": 71,
   "id": "52295850-d6f9-48e5-8469-161b46378f17",
   "metadata": {
    "scrolled": true
   },
   "outputs": [
    {
     "name": "stdout",
     "output_type": "stream",
     "text": [
      "['ram', 'sduthi']\n"
     ]
    }
   ],
   "source": [
    "x.append(\"sduthi\")\n",
    "print(x)"
   ]
  },
  {
   "cell_type": "code",
   "execution_count": 72,
   "id": "3cd9abfd-bb63-4dc6-8442-85e5f9bf25b6",
   "metadata": {},
   "outputs": [
    {
     "name": "stdout",
     "output_type": "stream",
     "text": [
      "('ram', 'sduthi')\n"
     ]
    }
   ],
   "source": [
    "y=tuple(x)\n",
    "print(y)"
   ]
  },
  {
   "cell_type": "code",
   "execution_count": 79,
   "id": "4dc55666-f096-499c-a34e-63b173112c87",
   "metadata": {},
   "outputs": [
    {
     "data": {
      "text/plain": [
       "True"
      ]
     },
     "execution_count": 79,
     "metadata": {},
     "output_type": "execute_result"
    }
   ],
   "source": [
    "all((1,3,\"sduthi\"))"
   ]
  },
  {
   "cell_type": "code",
   "execution_count": 85,
   "id": "961c8853-adb9-4bd4-950d-dd8f0b870c8e",
   "metadata": {},
   "outputs": [
    {
     "name": "stdout",
     "output_type": "stream",
     "text": [
      "rduthi\n"
     ]
    }
   ],
   "source": [
    "print(max(\"Ram\",\"rduthi\",\"Roo\"))"
   ]
  },
  {
   "cell_type": "code",
   "execution_count": 103,
   "id": "be102aeb-9b04-48db-835e-511853cfb185",
   "metadata": {},
   "outputs": [
    {
     "name": "stdout",
     "output_type": "stream",
     "text": [
      "False\n",
      "False\n"
     ]
    }
   ],
   "source": [
    "x=(2,3,4)\n",
    "y=(2,4,2,3,4,5)\n",
    "print(x>y)\n",
    "print(x==y)\n"
   ]
  },
  {
   "cell_type": "code",
   "execution_count": 108,
   "id": "99f52aa3-a09c-4e54-b1d7-cbc69c461222",
   "metadata": {},
   "outputs": [
    {
     "name": "stdout",
     "output_type": "stream",
     "text": [
      "no\n",
      "no\n",
      "no\n",
      "no\n",
      "yes\n",
      "no\n"
     ]
    }
   ],
   "source": [
    "x=(1,2,3,4,5,6)\n",
    "for i in x:\n",
    "    if i == 5:\n",
    "        print(\"yes\")\n",
    "        \n",
    "    else:\n",
    "        print(\"no\")"
   ]
  },
  {
   "cell_type": "code",
   "execution_count": null,
   "id": "4170467e-f5f2-4e95-a75c-a22b2aedacf4",
   "metadata": {},
   "outputs": [],
   "source": []
  }
 ],
 "metadata": {
  "kernelspec": {
   "display_name": "Python 3 (ipykernel)",
   "language": "python",
   "name": "python3"
  },
  "language_info": {
   "codemirror_mode": {
    "name": "ipython",
    "version": 3
   },
   "file_extension": ".py",
   "mimetype": "text/x-python",
   "name": "python",
   "nbconvert_exporter": "python",
   "pygments_lexer": "ipython3",
   "version": "3.12.2"
  }
 },
 "nbformat": 4,
 "nbformat_minor": 5
}
