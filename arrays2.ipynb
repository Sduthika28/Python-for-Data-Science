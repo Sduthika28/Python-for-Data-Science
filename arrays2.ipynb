{
 "cells": [
  {
   "cell_type": "code",
   "execution_count": 1,
   "id": "8860e526-69e5-40cd-92d8-4a6fc0064387",
   "metadata": {},
   "outputs": [
    {
     "data": {
      "text/plain": [
       "array([ 1,  6, 11, 16, 21, 26, 31, 36, 41, 46, 51, 56])"
      ]
     },
     "execution_count": 1,
     "metadata": {},
     "output_type": "execute_result"
    }
   ],
   "source": [
    "import numpy as np\n",
    "x=np.arange(1,60,5)\n",
    "x"
   ]
  },
  {
   "cell_type": "code",
   "execution_count": 2,
   "id": "480bba94-140f-457f-9f76-182a015dbfec",
   "metadata": {},
   "outputs": [
    {
     "data": {
      "text/plain": [
       "(12,)"
      ]
     },
     "execution_count": 2,
     "metadata": {},
     "output_type": "execute_result"
    }
   ],
   "source": [
    "x.shape"
   ]
  },
  {
   "cell_type": "code",
   "execution_count": 11,
   "id": "2d077227-af64-4b6d-8f87-7487489e6e37",
   "metadata": {},
   "outputs": [
    {
     "data": {
      "text/plain": [
       "array([[ 1,  6, 11, 16],\n",
       "       [21, 26, 31, 36],\n",
       "       [41, 46, 51, 56]])"
      ]
     },
     "execution_count": 11,
     "metadata": {},
     "output_type": "execute_result"
    }
   ],
   "source": [
    "x.reshape([-1,4])"
   ]
  },
  {
   "cell_type": "code",
   "execution_count": 12,
   "id": "3a3de95e-cbcd-448b-8259-6be40f7726a3",
   "metadata": {},
   "outputs": [
    {
     "data": {
      "text/plain": [
       "array([10, 20, 30, 40, 50])"
      ]
     },
     "execution_count": 12,
     "metadata": {},
     "output_type": "execute_result"
    }
   ],
   "source": [
    "y=np.array([10,20,30,40,50])\n",
    "y"
   ]
  },
  {
   "cell_type": "code",
   "execution_count": 13,
   "id": "0523a8dd-e470-4cb7-b5bf-f8bb25238de9",
   "metadata": {},
   "outputs": [
    {
     "data": {
      "text/plain": [
       "array([1, 3])"
      ]
     },
     "execution_count": 13,
     "metadata": {},
     "output_type": "execute_result"
    }
   ],
   "source": [
    "mask=np.array([1,3])\n",
    "mask"
   ]
  },
  {
   "cell_type": "code",
   "execution_count": 15,
   "id": "e15510b9-c6a0-4685-a751-d9f9f1d94456",
   "metadata": {},
   "outputs": [
    {
     "name": "stdout",
     "output_type": "stream",
     "text": [
      "[20 40]\n"
     ]
    }
   ],
   "source": [
    "print(y[mask])"
   ]
  },
  {
   "cell_type": "code",
   "execution_count": 16,
   "id": "fc719099-559b-4c2c-96e6-6a400aca14ef",
   "metadata": {},
   "outputs": [
    {
     "data": {
      "text/plain": [
       "array([70, 50, 90])"
      ]
     },
     "execution_count": 16,
     "metadata": {},
     "output_type": "execute_result"
    }
   ],
   "source": [
    "r=np.array([10,20,30])\n",
    "s=np.array([60,30,60])\n",
    "np.add(r,s)"
   ]
  },
  {
   "cell_type": "code",
   "execution_count": 18,
   "id": "89d0746a-7e17-42ce-b594-4deb9d41382b",
   "metadata": {},
   "outputs": [
    {
     "name": "stdout",
     "output_type": "stream",
     "text": [
      "{1: 'one', 2: 'two', 3: 'three'} \n",
      " <class 'dict'>\n"
     ]
    }
   ],
   "source": [
    "d={1:\"one\",2:\"two\",3:\"three\"}\n",
    "print(d,\"\\n\",type(d))"
   ]
  },
  {
   "cell_type": "code",
   "execution_count": 24,
   "id": "2fe836cd-9b90-4975-88af-8706aa63afd2",
   "metadata": {},
   "outputs": [
    {
     "data": {
      "text/plain": [
       "{'name': 'John', 'age': 36, 'country': 'Norway'}"
      ]
     },
     "execution_count": 24,
     "metadata": {},
     "output_type": "execute_result"
    }
   ],
   "source": [
    "di=dict(name=\"John\", age=36, country=\"Norway\")\n",
    "di"
   ]
  },
  {
   "cell_type": "code",
   "execution_count": 26,
   "id": "ae123d64-8b0a-4e70-80fe-223922241b67",
   "metadata": {},
   "outputs": [
    {
     "data": {
      "text/plain": [
       "'John'"
      ]
     },
     "execution_count": 26,
     "metadata": {},
     "output_type": "execute_result"
    }
   ],
   "source": [
    "di[\"name\"]"
   ]
  },
  {
   "cell_type": "code",
   "execution_count": 35,
   "id": "eed4a140-ee7a-403f-b07d-20fb663b09b6",
   "metadata": {},
   "outputs": [],
   "source": [
    "import pandas as pd\n",
    "se=pd.Series([1,2,3,4])"
   ]
  },
  {
   "cell_type": "code",
   "execution_count": 36,
   "id": "bcb0ceab-33a9-414b-8014-441a37f33c02",
   "metadata": {},
   "outputs": [
    {
     "name": "stdout",
     "output_type": "stream",
     "text": [
      "0    1\n",
      "1    2\n",
      "2    3\n",
      "3    4\n",
      "dtype: int64 \n",
      " <class 'pandas.core.series.Series'>\n"
     ]
    }
   ],
   "source": [
    "print(se,\"\\n\",type(df))"
   ]
  },
  {
   "cell_type": "code",
   "execution_count": 37,
   "id": "a6b83b0e-e048-4732-b5a8-8c8bdd32ee4a",
   "metadata": {},
   "outputs": [
    {
     "data": {
      "text/plain": [
       "0    1\n",
       "1    2\n",
       "3    4\n",
       "dtype: int64"
      ]
     },
     "execution_count": 37,
     "metadata": {},
     "output_type": "execute_result"
    }
   ],
   "source": [
    "se.drop(2)"
   ]
  },
  {
   "cell_type": "code",
   "execution_count": 40,
   "id": "bbe69b6b-2c7a-4a6b-8d43-3f24f58ffdd2",
   "metadata": {},
   "outputs": [
    {
     "data": {
      "text/plain": [
       "array([10, 20, 30, 40, 50])"
      ]
     },
     "execution_count": 40,
     "metadata": {},
     "output_type": "execute_result"
    }
   ],
   "source": [
    "import matplotlib.pyplot as plt\n",
    "import math\n",
    "x=np.array([10,20,30,40,50])\n",
    "x"
   ]
  },
  {
   "cell_type": "code",
   "execution_count": 41,
   "id": "2c5a70b0-65d4-495f-8c48-b2615c7f4184",
   "metadata": {},
   "outputs": [
    {
     "data": {
      "text/plain": [
       "array([ 100,  400,  900, 1600, 2500])"
      ]
     },
     "execution_count": 41,
     "metadata": {},
     "output_type": "execute_result"
    }
   ],
   "source": [
    "y=np.array([i*i for i in x])\n",
    "y"
   ]
  },
  {
   "cell_type": "code",
   "execution_count": 47,
   "id": "bb30ad2c-afd6-489d-839b-2c5eb2aabd40",
   "metadata": {},
   "outputs": [
    {
     "data": {
      "text/plain": [
       "<matplotlib.legend.Legend at 0x1eb6d843020>"
      ]
     },
     "execution_count": 47,
     "metadata": {},
     "output_type": "execute_result"
    },
    {
     "data": {
      "image/png": "[encoded data removed]",
      "text/plain": [
       "<Figure size 640x480 with 1 Axes>"
      ]
     },
     "metadata": {},
     "output_type": "display_data"
    }
   ],
   "source": [
    "plt.plot(x,y)\n",
    "plt.xlabel(\"x-axis\")\n",
    "plt.ylabel(\"y-axis\")\n",
    "plt.title(\"data\")\n",
    "plt.legend(\"data\",loc=\"upper center\")"
   ]
  },
  {
   "cell_type": "code",
   "execution_count": 58,
   "id": "7ed067f9-1121-48fa-bd58-97239b0a75cb",
   "metadata": {},
   "outputs": [
    {
     "data": {
      "text/plain": [
       "[<matplotlib.lines.Line2D at 0x1eb71d57f50>]"
      ]
     },
     "execution_count": 58,
     "metadata": {},
     "output_type": "execute_result"
    },
    {
     "data": {
      "image/png": "[encoded data removed]",
      "text/plain": [
       "<Figure size 640x480 with 2 Axes>"
      ]
     },
     "metadata": {},
     "output_type": "display_data"
    }
   ],
   "source": [
    "\n",
    "plt.subplot(2,2,1)\n",
    "plt.plot(x,y,'r')\n",
    "plt.subplot(2,2,4)\n",
    "plt.plot(x,y,'y')\n"
   ]
  },
  {
   "cell_type": "code",
   "execution_count": 64,
   "id": "f341a608-8347-43e9-9172-57c9023fb27c",
   "metadata": {},
   "outputs": [
    {
     "name": "stdout",
     "output_type": "stream",
     "text": [
      "[1 3 5 7 9]\n",
      "[ 2  4  6  8 10]\n"
     ]
    }
   ],
   "source": [
    "arr = np.array([1, 2, 3, 4, 5, 6, 7, 8, 9, 10])\n",
    "odd_elements = arr[arr % 2 != 0]\n",
    "even_elements = arr[arr % 2 == 0]\n",
    "print(odd_elements)\n",
    "print(even_elements)\n",
    "\n"
   ]
  },
  {
   "cell_type": "code",
   "execution_count": 65,
   "id": "ba49bd01-f74d-4fe2-b6e9-f84e997fa258",
   "metadata": {},
   "outputs": [
    {
     "ename": "NameError",
     "evalue": "name 'collections' is not defined",
     "output_type": "error",
     "traceback": [
      "\u001b[1;31m---------------------------------------------------------------------------\u001b[0m",
      "\u001b[1;31mNameError\u001b[0m                                 Traceback (most recent call last)",
      "Cell \u001b[1;32mIn[65], line 2\u001b[0m\n\u001b[0;32m      1\u001b[0m arr \u001b[38;5;241m=\u001b[39m np\u001b[38;5;241m.\u001b[39marray([\u001b[38;5;241m1\u001b[39m, \u001b[38;5;241m2\u001b[39m, \u001b[38;5;241m3\u001b[39m, \u001b[38;5;241m4\u001b[39m, \u001b[38;5;241m5\u001b[39m, \u001b[38;5;241m1\u001b[39m, \u001b[38;5;241m2\u001b[39m])\n\u001b[1;32m----> 2\u001b[0m duplicates \u001b[38;5;241m=\u001b[39m np\u001b[38;5;241m.\u001b[39marray([item \u001b[38;5;28;01mfor\u001b[39;00m item, count \u001b[38;5;129;01min\u001b[39;00m \u001b[43mcollections\u001b[49m\u001b[38;5;241m.\u001b[39mCounter(arr)\u001b[38;5;241m.\u001b[39mitems() \u001b[38;5;28;01mif\u001b[39;00m count \u001b[38;5;241m>\u001b[39m \u001b[38;5;241m1\u001b[39m])\n",
      "\u001b[1;31mNameError\u001b[0m: name 'collections' is not defined"
     ]
    }
   ],
   "source": [
    "arr = np.array([1, 2, 3, 4, 5, 1, 2])\n",
    "duplicates = np.array([item for item, count in collections.Counter(arr).items() if count > 1])\n"
   ]
  },
  {
   "cell_type": "code",
   "execution_count": null,
   "id": "3c7ec282-3733-4562-8e13-327c09662534",
   "metadata": {},
   "outputs": [],
   "source": []
  }
 ],
 "metadata": {
  "kernelspec": {
   "display_name": "Python 3 (ipykernel)",
   "language": "python",
   "name": "python3"
  },
  "language_info": {
   "codemirror_mode": {
    "name": "ipython",
    "version": 3
   },
   "file_extension": ".py",
   "mimetype": "text/x-python",
   "name": "python",
   "nbconvert_exporter": "python",
   "pygments_lexer": "ipython3",
   "version": "3.12.2"
  }
 },
 "nbformat": 4,
 "nbformat_minor": 5
}
